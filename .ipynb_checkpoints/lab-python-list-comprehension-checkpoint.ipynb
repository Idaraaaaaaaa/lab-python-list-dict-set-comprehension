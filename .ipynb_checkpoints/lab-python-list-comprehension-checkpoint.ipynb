{
 "cells": [
  {
   "cell_type": "markdown",
   "id": "25d7736c-ba17-4aff-b6bb-66eba20fbf4e",
   "metadata": {},
   "source": [
    "# Lab | List, Dict and Set Comprehension"
   ]
  },
  {
   "cell_type": "markdown",
   "id": "7dd3cbde-675a-4b81-92c3-f728846dbe06",
   "metadata": {},
   "source": [
    "## Exercise: Managing Customer Orders Optimized with Comprehension"
   ]
  },
  {
   "cell_type": "markdown",
   "id": "5d500160-2fb7-4777-b5e4-09d45ebaf328",
   "metadata": {},
   "source": [
    "In the previous exercise, you developed a program to manage customer orders and inventory. Now, let's take it a step further and incorporate comprehension into your code.\n",
    "\n",
    "Follow the steps below to complete the exercise:\n",
    "\n",
    "1. Review your code from the previous exercise and identify areas where you can apply comprehension to simplify and streamline your code. \n",
    "\n",
    "    - *Hint: Apply it to initialize inventory, updating the inventory and printing the updated inventory.*\n",
    "    \n",
    "    - For example, in initializing the inventory, we could have:\n",
    "    \n",
    "        ```python\n",
    "        def initialize_inventory(products):\n",
    "            inventory = {product: int(input(f\"Enter the quantity of {product}s available: \")) for product in products}\n",
    "            return inventory\n",
    "\n",
    "        ```\n",
    "<br>\n",
    "    \n",
    "    \n",
    "2. Modify the function get_customer_orders so it prompts the user to enter the number of customer orders and gathers the product names using a loop and user input. Use comprehension.\n",
    "\n",
    "3. Add a new function to calculate the total price of the customer order. For each product in customer_orders, prompt the user to enter the price of that product. Use comprehension to calculate the total price. Note: assume that the user can only have 1 unit of each product.\n",
    "\n",
    "4. Modify the update_inventory function to remove the product from the inventory if its quantity becomes zero after fulfilling the customer orders. Use comprehension to filter out the products with a quantity of zero from the inventory.\n",
    "\n",
    "5. Print the total price of the customer order.\n",
    "\n",
    "Your code should produce output similar to the following:\n",
    "\n",
    "```python\n",
    "Enter the quantity of t-shirts available:  5\n",
    "Enter the quantity of mugs available:  4\n",
    "Enter the quantity of hats available:  3\n",
    "Enter the quantity of books available:  2\n",
    "Enter the quantity of keychains available:  1\n",
    "Enter the number of customer orders:  2\n",
    "Enter the name of a product that a customer wants to order:  hat\n",
    "Enter the name of a product that a customer wants to order:  keychain\n",
    "\n",
    "Order Statistics:\n",
    "Total Products Ordered: 2\n",
    "Percentage of Unique Products Ordered: 40.0\n",
    "\n",
    "Updated Inventory:\n",
    "t-shirt: 5\n",
    "mug: 4\n",
    "hat: 2\n",
    "book: 2\n",
    "Enter the price of keychain:  5\n",
    "Enter the price of hat:  10\n",
    "Total Price: 15.0\n",
    "\n",
    "```\n"
   ]
  },
  {
   "cell_type": "code",
   "execution_count": 22,
   "id": "b73592e9-7237-427e-9042-56c18795bbf5",
   "metadata": {},
   "outputs": [],
   "source": [
    "products = [\"t-shirt\", \"mug\", \"hat\", \"book\", \"keychain\"]\n",
    "\n",
    "def initialize_inventory(products):\n",
    "    inventory = {product: int(input(f\"Enter the quantity for {product}: \")) for product in products}\n",
    "    return inventory\n",
    "\n"
   ]
  },
  {
   "cell_type": "code",
   "execution_count": 23,
   "id": "46e88664-7133-4e93-bbfa-f3615f06888f",
   "metadata": {},
   "outputs": [
    {
     "name": "stdin",
     "output_type": "stream",
     "text": [
      "Enter the quantity for t-shirt:  8\n",
      "Enter the quantity for mug:  9\n",
      "Enter the quantity for hat:  7\n",
      "Enter the quantity for book:  6\n",
      "Enter the quantity for keychain:  5\n"
     ]
    }
   ],
   "source": [
    "new_inventory=initialize_inventory(products)"
   ]
  },
  {
   "cell_type": "code",
   "execution_count": 24,
   "id": "8eeb078a-68c1-4817-8ec8-191d8a47aadb",
   "metadata": {},
   "outputs": [
    {
     "data": {
      "text/plain": [
       "{'t-shirt': 8, 'mug': 9, 'hat': 7, 'book': 6, 'keychain': 5}"
      ]
     },
     "execution_count": 24,
     "metadata": {},
     "output_type": "execute_result"
    }
   ],
   "source": [
    "new_inventory"
   ]
  },
  {
   "cell_type": "code",
   "execution_count": 25,
   "id": "fa16f569-1b2d-4557-8dc6-73a98ec167e6",
   "metadata": {},
   "outputs": [],
   "source": [
    "# Modify the function get_customer_orders so it prompts the user to enter the number of customer orders and gathers the product names using a loop and user input. \n",
    "#Use comprehension.\n",
    "def get_customer_orders():\n",
    "    num_orders = int(input(\"Enter the number of customer orders: \"))\n",
    "    customer_orders = {input(f\"Enter product name for order {i + 1}: \") for i in range(num_orders)}\n",
    "    return customer_orders\n"
   ]
  },
  {
   "cell_type": "code",
   "execution_count": 27,
   "id": "797d3824-068b-493d-898c-8c6464ff1f06",
   "metadata": {},
   "outputs": [
    {
     "name": "stdin",
     "output_type": "stream",
     "text": [
      "Enter the number of customer orders:  4\n",
      "Enter product name for order 1:  hat\n",
      "Enter product name for order 2:  book\n",
      "Enter product name for order 3:  mug\n",
      "Enter product name for order 4:  keychain\n"
     ]
    }
   ],
   "source": [
    "customer_orders=get_customer_orders()"
   ]
  },
  {
   "cell_type": "code",
   "execution_count": 37,
   "id": "17184941-f4c2-4e24-9688-da7a37044ddb",
   "metadata": {},
   "outputs": [],
   "source": [
    "#Add a new function to calculate the total price of the customer order. \n",
    "#For each product in customer_orders, prompt the user to enter the price of that product. \n",
    "#Use comprehension to calculate the total price. \n",
    "#Note: assume that the user can only have 1 unit of each product.\n",
    "def calculate_total_price(customer_orders):\n",
    "    product_prices = {\"t-shirt\": 20, \"mug\": 5, \"hat\": 15, \"book\": 12, \"keychain\": 3}\n",
    "    prices = {product: float(input(f\"Enter the price for {product}: \")) for product in customer_orders}\n",
    "    total_price = sum(prices.values())\n",
    "\n",
    "    return total_price\n"
   ]
  },
  {
   "cell_type": "code",
   "execution_count": 38,
   "id": "24a30f8c-f887-421a-af50-92d8b334b783",
   "metadata": {},
   "outputs": [
    {
     "name": "stdin",
     "output_type": "stream",
     "text": [
      "Enter the price for book:  5\n",
      "Enter the price for 9:  5\n",
      "Enter the price for 5:  5\n",
      "Enter the price for hat:  5\n",
      "Enter the price for 4:  5\n",
      "Enter the price for keychain:  5\n",
      "Enter the price for mug:  5\n"
     ]
    }
   ],
   "source": [
    "total_price=calculate_total_price(customer_orders)"
   ]
  },
  {
   "cell_type": "code",
   "execution_count": 48,
   "id": "1cfc9579-649a-4dd2-bdb1-cc23dcfc7e75",
   "metadata": {},
   "outputs": [],
   "source": [
    "#Modify the update_inventory function to remove the product from the inventory if its quantity becomes zero after fulfilling the customer orders. \n",
    "#Use comprehension to filter out the products with a quantity of zero from the inventory.\n",
    "def update_inventory(customer_orders, new_inventory):\n",
    "    updated_inventory={product: new_inventory[product]-1 if product in customer_orders else new_inventory[product]for product in new_inventory}\n",
    "    updated_inventory={product: count for product, count in updated_inventory.items() if count>0}\n",
    "    return updated_inventory\n"
   ]
  },
  {
   "cell_type": "code",
   "execution_count": 49,
   "id": "5c5ee505-1666-4f12-a3eb-c3c4e3115e6a",
   "metadata": {},
   "outputs": [
    {
     "data": {
      "text/plain": [
       "{'t-shirt': 8, 'mug': 8, 'hat': 6, 'book': 5, 'keychain': 4}"
      ]
     },
     "execution_count": 49,
     "metadata": {},
     "output_type": "execute_result"
    }
   ],
   "source": [
    "updated_inventory= update_inventory(customer_orders, new_inventory)\n",
    "update_inventory(customer_orders, new_inventory)"
   ]
  },
  {
   "cell_type": "code",
   "execution_count": 52,
   "id": "75946698-487d-46b3-b3df-06d75f4c1b70",
   "metadata": {},
   "outputs": [],
   "source": [
    "# Print the total price of the customer order.\n",
    "def calculate_order_statistics(customer_orders,products):\n",
    "    total_products_ordered=len(customer_orders)\n",
    "    inventory_total_items=sum(updated_inventory.values())\n",
    "    percentage_of_unique_products_ordered=(total_products_ordered/inventory_total_items*100)\n",
    "    order_statistics=(total_products_ordered,percentage_of_unique_products_ordered)\n",
    "    return order_statistics"
   ]
  },
  {
   "cell_type": "code",
   "execution_count": 53,
   "id": "94cde066-94e2-42d7-9cce-2a7badf79f6a",
   "metadata": {},
   "outputs": [],
   "source": [
    "order_statistics=calculate_order_statistics(customer_orders,products)"
   ]
  },
  {
   "cell_type": "raw",
   "id": "5b11247b-bdef-496f-91fc-3671ad1f8bb6",
   "metadata": {},
   "source": [
    "order_statistics"
   ]
  }
 ],
 "metadata": {
  "kernelspec": {
   "display_name": "Python 3 (ipykernel)",
   "language": "python",
   "name": "python3"
  },
  "language_info": {
   "codemirror_mode": {
    "name": "ipython",
    "version": 3
   },
   "file_extension": ".py",
   "mimetype": "text/x-python",
   "name": "python",
   "nbconvert_exporter": "python",
   "pygments_lexer": "ipython3",
   "version": "3.11.7"
  }
 },
 "nbformat": 4,
 "nbformat_minor": 5
}
